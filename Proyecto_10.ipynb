{
 "cells": [
  {
   "cell_type": "markdown",
   "metadata": {},
   "source": [
    "# Análisis de clientes del banco Beta Bank"
   ]
  },
  {
   "cell_type": "markdown",
   "metadata": {},
   "source": [
    "## Preprocesamiento de datos"
   ]
  },
  {
   "cell_type": "markdown",
   "metadata": {},
   "source": [
    "###  Importar las librerias que se usaran"
   ]
  },
  {
   "cell_type": "code",
   "execution_count": 1,
   "metadata": {},
   "outputs": [],
   "source": [
    "import pandas as pd \n",
    "from matplotlib import pyplot as plt\n",
    "\n",
    "from sklearn.tree import DecisionTreeClassifier\n",
    "from sklearn.ensemble import RandomForestClassifier\n",
    "from sklearn. linear_model import LogisticRegression\n",
    "\n",
    "from sklearn.preprocessing import OrdinalEncoder\n",
    "from sklearn.preprocessing import StandardScaler\n",
    "from sklearn.model_selection import train_test_split\n",
    "\n",
    "from sklearn.metrics import accuracy_score, classification_report\n",
    "from sklearn.metrics import confusion_matrix\n",
    "from sklearn.metrics import recall_score\n",
    "from sklearn.metrics import precision_score\n",
    "from sklearn.metrics import f1_score\n",
    "from sklearn.metrics import roc_curve\n",
    "from sklearn.metrics import roc_auc_score\n",
    "\n",
    "from sklearn.utils import shuffle"
   ]
  },
  {
   "cell_type": "markdown",
   "metadata": {},
   "source": [
    "### analizar la información de los datos"
   ]
  },
  {
   "cell_type": "code",
   "execution_count": 2,
   "metadata": {},
   "outputs": [],
   "source": [
    "#subir el archivo\n",
    "data=pd.read_csv('/datasets/Churn.csv')"
   ]
  },
  {
   "cell_type": "code",
   "execution_count": 3,
   "metadata": {},
   "outputs": [
    {
     "name": "stdout",
     "output_type": "stream",
     "text": [
      "<class 'pandas.core.frame.DataFrame'>\n",
      "RangeIndex: 10000 entries, 0 to 9999\n",
      "Data columns (total 14 columns):\n",
      " #   Column           Non-Null Count  Dtype  \n",
      "---  ------           --------------  -----  \n",
      " 0   RowNumber        10000 non-null  int64  \n",
      " 1   CustomerId       10000 non-null  int64  \n",
      " 2   Surname          10000 non-null  object \n",
      " 3   CreditScore      10000 non-null  int64  \n",
      " 4   Geography        10000 non-null  object \n",
      " 5   Gender           10000 non-null  object \n",
      " 6   Age              10000 non-null  int64  \n",
      " 7   Tenure           9091 non-null   float64\n",
      " 8   Balance          10000 non-null  float64\n",
      " 9   NumOfProducts    10000 non-null  int64  \n",
      " 10  HasCrCard        10000 non-null  int64  \n",
      " 11  IsActiveMember   10000 non-null  int64  \n",
      " 12  EstimatedSalary  10000 non-null  float64\n",
      " 13  Exited           10000 non-null  int64  \n",
      "dtypes: float64(3), int64(8), object(3)\n",
      "memory usage: 1.1+ MB\n"
     ]
    }
   ],
   "source": [
    "data.info()"
   ]
  },
  {
   "cell_type": "code",
   "execution_count": 4,
   "metadata": {
    "scrolled": true
   },
   "outputs": [
    {
     "data": {
      "text/html": [
       "<div>\n",
       "<style scoped>\n",
       "    .dataframe tbody tr th:only-of-type {\n",
       "        vertical-align: middle;\n",
       "    }\n",
       "\n",
       "    .dataframe tbody tr th {\n",
       "        vertical-align: top;\n",
       "    }\n",
       "\n",
       "    .dataframe thead th {\n",
       "        text-align: right;\n",
       "    }\n",
       "</style>\n",
       "<table border=\"1\" class=\"dataframe\">\n",
       "  <thead>\n",
       "    <tr style=\"text-align: right;\">\n",
       "      <th></th>\n",
       "      <th>RowNumber</th>\n",
       "      <th>CustomerId</th>\n",
       "      <th>Surname</th>\n",
       "      <th>CreditScore</th>\n",
       "      <th>Geography</th>\n",
       "      <th>Gender</th>\n",
       "      <th>Age</th>\n",
       "      <th>Tenure</th>\n",
       "      <th>Balance</th>\n",
       "      <th>NumOfProducts</th>\n",
       "      <th>HasCrCard</th>\n",
       "      <th>IsActiveMember</th>\n",
       "      <th>EstimatedSalary</th>\n",
       "      <th>Exited</th>\n",
       "    </tr>\n",
       "  </thead>\n",
       "  <tbody>\n",
       "    <tr>\n",
       "      <th>0</th>\n",
       "      <td>1</td>\n",
       "      <td>15634602</td>\n",
       "      <td>Hargrave</td>\n",
       "      <td>619</td>\n",
       "      <td>France</td>\n",
       "      <td>Female</td>\n",
       "      <td>42</td>\n",
       "      <td>2.0</td>\n",
       "      <td>0.00</td>\n",
       "      <td>1</td>\n",
       "      <td>1</td>\n",
       "      <td>1</td>\n",
       "      <td>101348.88</td>\n",
       "      <td>1</td>\n",
       "    </tr>\n",
       "    <tr>\n",
       "      <th>1</th>\n",
       "      <td>2</td>\n",
       "      <td>15647311</td>\n",
       "      <td>Hill</td>\n",
       "      <td>608</td>\n",
       "      <td>Spain</td>\n",
       "      <td>Female</td>\n",
       "      <td>41</td>\n",
       "      <td>1.0</td>\n",
       "      <td>83807.86</td>\n",
       "      <td>1</td>\n",
       "      <td>0</td>\n",
       "      <td>1</td>\n",
       "      <td>112542.58</td>\n",
       "      <td>0</td>\n",
       "    </tr>\n",
       "    <tr>\n",
       "      <th>2</th>\n",
       "      <td>3</td>\n",
       "      <td>15619304</td>\n",
       "      <td>Onio</td>\n",
       "      <td>502</td>\n",
       "      <td>France</td>\n",
       "      <td>Female</td>\n",
       "      <td>42</td>\n",
       "      <td>8.0</td>\n",
       "      <td>159660.80</td>\n",
       "      <td>3</td>\n",
       "      <td>1</td>\n",
       "      <td>0</td>\n",
       "      <td>113931.57</td>\n",
       "      <td>1</td>\n",
       "    </tr>\n",
       "    <tr>\n",
       "      <th>3</th>\n",
       "      <td>4</td>\n",
       "      <td>15701354</td>\n",
       "      <td>Boni</td>\n",
       "      <td>699</td>\n",
       "      <td>France</td>\n",
       "      <td>Female</td>\n",
       "      <td>39</td>\n",
       "      <td>1.0</td>\n",
       "      <td>0.00</td>\n",
       "      <td>2</td>\n",
       "      <td>0</td>\n",
       "      <td>0</td>\n",
       "      <td>93826.63</td>\n",
       "      <td>0</td>\n",
       "    </tr>\n",
       "    <tr>\n",
       "      <th>4</th>\n",
       "      <td>5</td>\n",
       "      <td>15737888</td>\n",
       "      <td>Mitchell</td>\n",
       "      <td>850</td>\n",
       "      <td>Spain</td>\n",
       "      <td>Female</td>\n",
       "      <td>43</td>\n",
       "      <td>2.0</td>\n",
       "      <td>125510.82</td>\n",
       "      <td>1</td>\n",
       "      <td>1</td>\n",
       "      <td>1</td>\n",
       "      <td>79084.10</td>\n",
       "      <td>0</td>\n",
       "    </tr>\n",
       "  </tbody>\n",
       "</table>\n",
       "</div>"
      ],
      "text/plain": [
       "   RowNumber  CustomerId   Surname  CreditScore Geography  Gender  Age  \\\n",
       "0          1    15634602  Hargrave          619    France  Female   42   \n",
       "1          2    15647311      Hill          608     Spain  Female   41   \n",
       "2          3    15619304      Onio          502    France  Female   42   \n",
       "3          4    15701354      Boni          699    France  Female   39   \n",
       "4          5    15737888  Mitchell          850     Spain  Female   43   \n",
       "\n",
       "   Tenure    Balance  NumOfProducts  HasCrCard  IsActiveMember  \\\n",
       "0     2.0       0.00              1          1               1   \n",
       "1     1.0   83807.86              1          0               1   \n",
       "2     8.0  159660.80              3          1               0   \n",
       "3     1.0       0.00              2          0               0   \n",
       "4     2.0  125510.82              1          1               1   \n",
       "\n",
       "   EstimatedSalary  Exited  \n",
       "0        101348.88       1  \n",
       "1        112542.58       0  \n",
       "2        113931.57       1  \n",
       "3         93826.63       0  \n",
       "4         79084.10       0  "
      ]
     },
     "execution_count": 4,
     "metadata": {},
     "output_type": "execute_result"
    }
   ],
   "source": [
    "data.head()"
   ]
  },
  {
   "cell_type": "code",
   "execution_count": 5,
   "metadata": {},
   "outputs": [],
   "source": [
    "mean=data['Tenure'].mean()\n",
    "data['Tenure']=data['Tenure'].fillna(mean)"
   ]
  },
  {
   "cell_type": "code",
   "execution_count": 6,
   "metadata": {
    "scrolled": true
   },
   "outputs": [
    {
     "name": "stdout",
     "output_type": "stream",
     "text": [
      "Cantidad de filas duplicadas 0\n",
      "Cantidad de usuarios duplicado 0\n"
     ]
    }
   ],
   "source": [
    "#verificar que no hayan duplicados explicitos\n",
    "print ('Cantidad de filas duplicadas',data.duplicated().sum())\n",
    "\n",
    "#verificar que no hayan duplicados implicitos\n",
    "print('Cantidad de usuarios duplicado',data['CustomerId'].duplicated().sum())"
   ]
  },
  {
   "cell_type": "markdown",
   "metadata": {},
   "source": [
    "De los datos se observa que el tipo de cada uno es correcto, todas las columnas excepto por una no tienen datos nulos excepto por tenure, que es los años en los que el cliente a madurado el deposito a plazo fijo, se puso el valor de la media. También se observa que no hay filas duplicadas, ni usuarios que esten duplicados."
   ]
  },
  {
   "cell_type": "markdown",
   "metadata": {},
   "source": [
    "## Examinar el equilibrio de las clases (Investigación de modelos)"
   ]
  },
  {
   "cell_type": "markdown",
   "metadata": {},
   "source": [
    "Para el análisis las columnas RowNumber, CustomerId, Surname no me apartan valor para esta parte, por lo que las elimino. Debido a que estas columnas no nos dan ninguna característica, solo es para indicar que es un usuario. y son diferentes para cada uno"
   ]
  },
  {
   "cell_type": "code",
   "execution_count": 7,
   "metadata": {},
   "outputs": [],
   "source": [
    "new_data=data.drop(['RowNumber', 'CustomerId', 'Surname'], axis='columns')"
   ]
  },
  {
   "cell_type": "markdown",
   "metadata": {},
   "source": [
    "### Algortimo árbole de decisión"
   ]
  },
  {
   "cell_type": "markdown",
   "metadata": {},
   "source": [
    "Geography y Gender son características categóricas se debe convertir en numéricas, para el modelo de arboles se hace con codificación de etiquetas"
   ]
  },
  {
   "cell_type": "code",
   "execution_count": 8,
   "metadata": {},
   "outputs": [
    {
     "data": {
      "text/html": [
       "<div>\n",
       "<style scoped>\n",
       "    .dataframe tbody tr th:only-of-type {\n",
       "        vertical-align: middle;\n",
       "    }\n",
       "\n",
       "    .dataframe tbody tr th {\n",
       "        vertical-align: top;\n",
       "    }\n",
       "\n",
       "    .dataframe thead th {\n",
       "        text-align: right;\n",
       "    }\n",
       "</style>\n",
       "<table border=\"1\" class=\"dataframe\">\n",
       "  <thead>\n",
       "    <tr style=\"text-align: right;\">\n",
       "      <th></th>\n",
       "      <th>CreditScore</th>\n",
       "      <th>Geography</th>\n",
       "      <th>Gender</th>\n",
       "      <th>Age</th>\n",
       "      <th>Tenure</th>\n",
       "      <th>Balance</th>\n",
       "      <th>NumOfProducts</th>\n",
       "      <th>HasCrCard</th>\n",
       "      <th>IsActiveMember</th>\n",
       "      <th>EstimatedSalary</th>\n",
       "      <th>Exited</th>\n",
       "    </tr>\n",
       "  </thead>\n",
       "  <tbody>\n",
       "    <tr>\n",
       "      <th>0</th>\n",
       "      <td>228.0</td>\n",
       "      <td>0.0</td>\n",
       "      <td>0.0</td>\n",
       "      <td>24.0</td>\n",
       "      <td>2.0</td>\n",
       "      <td>0.0</td>\n",
       "      <td>0.0</td>\n",
       "      <td>1.0</td>\n",
       "      <td>1.0</td>\n",
       "      <td>5068.0</td>\n",
       "      <td>1.0</td>\n",
       "    </tr>\n",
       "    <tr>\n",
       "      <th>1</th>\n",
       "      <td>217.0</td>\n",
       "      <td>2.0</td>\n",
       "      <td>0.0</td>\n",
       "      <td>23.0</td>\n",
       "      <td>1.0</td>\n",
       "      <td>743.0</td>\n",
       "      <td>0.0</td>\n",
       "      <td>0.0</td>\n",
       "      <td>1.0</td>\n",
       "      <td>5639.0</td>\n",
       "      <td>0.0</td>\n",
       "    </tr>\n",
       "    <tr>\n",
       "      <th>2</th>\n",
       "      <td>111.0</td>\n",
       "      <td>0.0</td>\n",
       "      <td>0.0</td>\n",
       "      <td>24.0</td>\n",
       "      <td>9.0</td>\n",
       "      <td>5793.0</td>\n",
       "      <td>2.0</td>\n",
       "      <td>1.0</td>\n",
       "      <td>0.0</td>\n",
       "      <td>5707.0</td>\n",
       "      <td>1.0</td>\n",
       "    </tr>\n",
       "    <tr>\n",
       "      <th>3</th>\n",
       "      <td>308.0</td>\n",
       "      <td>0.0</td>\n",
       "      <td>0.0</td>\n",
       "      <td>21.0</td>\n",
       "      <td>1.0</td>\n",
       "      <td>0.0</td>\n",
       "      <td>1.0</td>\n",
       "      <td>0.0</td>\n",
       "      <td>0.0</td>\n",
       "      <td>4704.0</td>\n",
       "      <td>0.0</td>\n",
       "    </tr>\n",
       "    <tr>\n",
       "      <th>4</th>\n",
       "      <td>459.0</td>\n",
       "      <td>2.0</td>\n",
       "      <td>0.0</td>\n",
       "      <td>25.0</td>\n",
       "      <td>2.0</td>\n",
       "      <td>3696.0</td>\n",
       "      <td>0.0</td>\n",
       "      <td>1.0</td>\n",
       "      <td>1.0</td>\n",
       "      <td>3925.0</td>\n",
       "      <td>0.0</td>\n",
       "    </tr>\n",
       "    <tr>\n",
       "      <th>...</th>\n",
       "      <td>...</td>\n",
       "      <td>...</td>\n",
       "      <td>...</td>\n",
       "      <td>...</td>\n",
       "      <td>...</td>\n",
       "      <td>...</td>\n",
       "      <td>...</td>\n",
       "      <td>...</td>\n",
       "      <td>...</td>\n",
       "      <td>...</td>\n",
       "      <td>...</td>\n",
       "    </tr>\n",
       "    <tr>\n",
       "      <th>9995</th>\n",
       "      <td>380.0</td>\n",
       "      <td>0.0</td>\n",
       "      <td>1.0</td>\n",
       "      <td>21.0</td>\n",
       "      <td>6.0</td>\n",
       "      <td>0.0</td>\n",
       "      <td>1.0</td>\n",
       "      <td>1.0</td>\n",
       "      <td>0.0</td>\n",
       "      <td>4827.0</td>\n",
       "      <td>0.0</td>\n",
       "    </tr>\n",
       "    <tr>\n",
       "      <th>9996</th>\n",
       "      <td>125.0</td>\n",
       "      <td>0.0</td>\n",
       "      <td>1.0</td>\n",
       "      <td>17.0</td>\n",
       "      <td>11.0</td>\n",
       "      <td>124.0</td>\n",
       "      <td>0.0</td>\n",
       "      <td>1.0</td>\n",
       "      <td>1.0</td>\n",
       "      <td>5087.0</td>\n",
       "      <td>0.0</td>\n",
       "    </tr>\n",
       "    <tr>\n",
       "      <th>9997</th>\n",
       "      <td>318.0</td>\n",
       "      <td>0.0</td>\n",
       "      <td>0.0</td>\n",
       "      <td>18.0</td>\n",
       "      <td>8.0</td>\n",
       "      <td>0.0</td>\n",
       "      <td>0.0</td>\n",
       "      <td>0.0</td>\n",
       "      <td>1.0</td>\n",
       "      <td>2062.0</td>\n",
       "      <td>1.0</td>\n",
       "    </tr>\n",
       "    <tr>\n",
       "      <th>9998</th>\n",
       "      <td>381.0</td>\n",
       "      <td>1.0</td>\n",
       "      <td>1.0</td>\n",
       "      <td>24.0</td>\n",
       "      <td>3.0</td>\n",
       "      <td>427.0</td>\n",
       "      <td>1.0</td>\n",
       "      <td>1.0</td>\n",
       "      <td>0.0</td>\n",
       "      <td>4639.0</td>\n",
       "      <td>1.0</td>\n",
       "    </tr>\n",
       "    <tr>\n",
       "      <th>9999</th>\n",
       "      <td>401.0</td>\n",
       "      <td>0.0</td>\n",
       "      <td>0.0</td>\n",
       "      <td>10.0</td>\n",
       "      <td>5.0</td>\n",
       "      <td>4112.0</td>\n",
       "      <td>0.0</td>\n",
       "      <td>1.0</td>\n",
       "      <td>0.0</td>\n",
       "      <td>1878.0</td>\n",
       "      <td>0.0</td>\n",
       "    </tr>\n",
       "  </tbody>\n",
       "</table>\n",
       "<p>10000 rows × 11 columns</p>\n",
       "</div>"
      ],
      "text/plain": [
       "      CreditScore  Geography  Gender   Age  Tenure  Balance  NumOfProducts  \\\n",
       "0           228.0        0.0     0.0  24.0     2.0      0.0            0.0   \n",
       "1           217.0        2.0     0.0  23.0     1.0    743.0            0.0   \n",
       "2           111.0        0.0     0.0  24.0     9.0   5793.0            2.0   \n",
       "3           308.0        0.0     0.0  21.0     1.0      0.0            1.0   \n",
       "4           459.0        2.0     0.0  25.0     2.0   3696.0            0.0   \n",
       "...           ...        ...     ...   ...     ...      ...            ...   \n",
       "9995        380.0        0.0     1.0  21.0     6.0      0.0            1.0   \n",
       "9996        125.0        0.0     1.0  17.0    11.0    124.0            0.0   \n",
       "9997        318.0        0.0     0.0  18.0     8.0      0.0            0.0   \n",
       "9998        381.0        1.0     1.0  24.0     3.0    427.0            1.0   \n",
       "9999        401.0        0.0     0.0  10.0     5.0   4112.0            0.0   \n",
       "\n",
       "      HasCrCard  IsActiveMember  EstimatedSalary  Exited  \n",
       "0           1.0             1.0           5068.0     1.0  \n",
       "1           0.0             1.0           5639.0     0.0  \n",
       "2           1.0             0.0           5707.0     1.0  \n",
       "3           0.0             0.0           4704.0     0.0  \n",
       "4           1.0             1.0           3925.0     0.0  \n",
       "...         ...             ...              ...     ...  \n",
       "9995        1.0             0.0           4827.0     0.0  \n",
       "9996        1.0             1.0           5087.0     0.0  \n",
       "9997        0.0             1.0           2062.0     1.0  \n",
       "9998        1.0             0.0           4639.0     1.0  \n",
       "9999        1.0             0.0           1878.0     0.0  \n",
       "\n",
       "[10000 rows x 11 columns]"
      ]
     },
     "execution_count": 8,
     "metadata": {},
     "output_type": "execute_result"
    }
   ],
   "source": [
    "encoder= OrdinalEncoder()\n",
    "encoder.fit(new_data)\n",
    "data_ordinal=pd.DataFrame(encoder.transform(new_data), columns=new_data.columns)\n",
    "\n",
    "data_ordinal"
   ]
  },
  {
   "cell_type": "markdown",
   "metadata": {},
   "source": [
    "#### Segmentar los datos en conjunto de entrenamiento, validación y prueba\n",
    "\n",
    "Se divide el conjunto de datos en:\n",
    "\n",
    "60% de entrenamiento\n",
    "\n",
    "20% validación\n",
    "\n",
    "20% prueba"
   ]
  },
  {
   "cell_type": "code",
   "execution_count": 9,
   "metadata": {},
   "outputs": [],
   "source": [
    "df_train, df_valid_test = train_test_split(data_ordinal, test_size=0.4, random_state=12345)\n",
    "df_valid,df_test=train_test_split(df_valid_test, test_size=0.5, random_state=12345)"
   ]
  },
  {
   "cell_type": "code",
   "execution_count": 10,
   "metadata": {},
   "outputs": [],
   "source": [
    "#Se separa cada conjunto de datos en caracteristicas y el objetivo\n",
    "features_train_ordinal= df_train.drop('Exited',axis=1)\n",
    "target_train_ordinal=df_train['Exited']\n",
    "\n",
    "features_valid_ordinal=df_valid.drop('Exited',axis=1)\n",
    "target_valid_ordinal=df_valid['Exited']\n",
    "\n",
    "features_test_ordinal=df_test.drop('Exited',axis=1)\n",
    "target_test_ordinal=df_test['Exited']"
   ]
  },
  {
   "cell_type": "code",
   "execution_count": 11,
   "metadata": {},
   "outputs": [
    {
     "name": "stdout",
     "output_type": "stream",
     "text": [
      "              precision    recall  f1-score   support\n",
      "\n",
      "         0.0       0.87      0.96      0.91      1582\n",
      "         1.0       0.75      0.44      0.55       418\n",
      "\n",
      "    accuracy                           0.85      2000\n",
      "   macro avg       0.81      0.70      0.73      2000\n",
      "weighted avg       0.84      0.85      0.84      2000\n",
      "\n",
      "La mejor exactitud fue de 0.852, se obtuvo para un model con max_depth= 4 \n"
     ]
    }
   ],
   "source": [
    "best_accuracy=0\n",
    "best_depth=0\n",
    "for depth in range(1,11):\n",
    "    tree_model=DecisionTreeClassifier(max_depth=depth, random_state=12345)\n",
    "    tree_model.fit(features_train_ordinal,target_train_ordinal)\n",
    "    predictions=tree_model.predict(features_valid_ordinal)\n",
    "    accuracy=accuracy_score(target_valid_ordinal,predictions)\n",
    "    if accuracy>best_accuracy:\n",
    "        best_accuracy=accuracy\n",
    "        best_depth=depth\n",
    "        \n",
    "        target_predict=predictions\n",
    "print(classification_report(target_valid_ordinal, target_predict))\n",
    "print (f'La mejor exactitud fue de {best_accuracy}, se obtuvo para un model con max_depth= {best_depth} ')"
   ]
  },
  {
   "cell_type": "markdown",
   "metadata": {},
   "source": [
    "### Algoritmo de bosque aleatorio\n",
    "Se hara un bucle para encontrar cual es el valor n_estimate y max_depth en donde se obtiene mejor resultado"
   ]
  },
  {
   "cell_type": "code",
   "execution_count": 12,
   "metadata": {},
   "outputs": [
    {
     "name": "stdout",
     "output_type": "stream",
     "text": [
      "              precision    recall  f1-score   support\n",
      "\n",
      "         0.0       0.87      0.97      0.92      1582\n",
      "         1.0       0.79      0.46      0.58       418\n",
      "\n",
      "    accuracy                           0.86      2000\n",
      "   macro avg       0.83      0.71      0.75      2000\n",
      "weighted avg       0.85      0.86      0.85      2000\n",
      "\n",
      "La mejor exactitud fue de 0.861, se obtuvo para un model con n_estimators= 7 y max_depth= 10\n"
     ]
    }
   ],
   "source": [
    "#Bosque aleatorio\n",
    "best_score = 0\n",
    "best_est = 0\n",
    "best_depth=0\n",
    "for est in range(1,40):\n",
    "    for depth in range(1,11):\n",
    "        forest_model = RandomForestClassifier(random_state=54321, n_estimators=est, max_depth=depth) \n",
    "        forest_model.fit(features_train_ordinal,target_train_ordinal) \n",
    "        score = forest_model.score(features_valid_ordinal,target_valid_ordinal)\n",
    "\n",
    "        if score > best_score:\n",
    "            best_score =score \n",
    "            best_est = est\n",
    "            best_depth=depth\n",
    "            target_predict=forest_model.predict(features_valid_ordinal)\n",
    "            \n",
    "print(classification_report(target_valid_ordinal, target_predict))\n",
    "\n",
    "print(f'La mejor exactitud fue de {best_score}, se obtuvo para un model con n_estimators= {best_est} y max_depth= {best_depth}')"
   ]
  },
  {
   "cell_type": "code",
   "execution_count": 13,
   "metadata": {},
   "outputs": [
    {
     "name": "stdout",
     "output_type": "stream",
     "text": [
      "[[1531   51]\n",
      " [ 227  191]]\n"
     ]
    }
   ],
   "source": [
    "# Se realiza una matriz de confusión \n",
    "print(confusion_matrix(target_valid_ordinal, target_predict))"
   ]
  },
  {
   "cell_type": "markdown",
   "metadata": {},
   "source": [
    "El modelo ve a menudo ve respuestas negativas donde no lo son."
   ]
  },
  {
   "cell_type": "markdown",
   "metadata": {},
   "source": [
    "### Regresión logística\n",
    "Para este caso hacemos la codificación one-hot, esto debido a que cuando se hace regresión logística se deben codificar las variables categóricas en variables independientes, que es lo que hace esta codificación. Lo que hace one-hot encoding es crear nuevas columnas con cada categoría y poner 1 en la categoría que es cada cosa. Para evitar caer en la trampa dummy se eliminan columnas donde los valores se pueden deducir de las otras columnas."
   ]
  },
  {
   "cell_type": "code",
   "execution_count": 14,
   "metadata": {},
   "outputs": [],
   "source": [
    "data_ohe=pd.get_dummies(new_data, drop_first=True)"
   ]
  },
  {
   "cell_type": "code",
   "execution_count": 15,
   "metadata": {},
   "outputs": [],
   "source": [
    "#Se divide los datos\n",
    "df_train_ohe, valid_test_ohe = train_test_split(data_ohe, test_size=0.4, random_state=12345)\n",
    "df_valid_ohe,df_test_ohe=train_test_split(valid_test_ohe, test_size=0.5, random_state=12345)"
   ]
  },
  {
   "cell_type": "code",
   "execution_count": 16,
   "metadata": {},
   "outputs": [],
   "source": [
    "#Se separa cada conjunto de datos en caracteristicas y el objetivo\n",
    "features_train_ohe= df_train_ohe.drop('Exited',axis=1)\n",
    "target_train_ohe=df_train_ohe['Exited']\n",
    "\n",
    "features_valid_ohe=df_valid_ohe.drop('Exited',axis=1)\n",
    "target_valid_ohe=df_valid_ohe['Exited']\n",
    "\n",
    "features_test_ohe=df_test_ohe.drop('Exited',axis=1)\n",
    "target_test_ohe=df_test_ohe['Exited']"
   ]
  },
  {
   "cell_type": "code",
   "execution_count": 17,
   "metadata": {},
   "outputs": [
    {
     "name": "stdout",
     "output_type": "stream",
     "text": [
      " La exactitud para el modelo de regresión logistica es 0.7815\n"
     ]
    }
   ],
   "source": [
    "regression_model=LogisticRegression(random_state=12345, solver='liblinear')\n",
    "regression_model.fit(features_train_ohe,target_train_ohe)\n",
    "score_valid=regression_model.score(features_valid_ohe,target_valid_ohe)\n",
    "print(f' La exactitud para el modelo de regresión logistica es {score_valid}')"
   ]
  },
  {
   "cell_type": "code",
   "execution_count": 18,
   "metadata": {},
   "outputs": [
    {
     "name": "stdout",
     "output_type": "stream",
     "text": [
      "              precision    recall  f1-score   support\n",
      "\n",
      "           0       0.79      0.98      0.88      1582\n",
      "           1       0.34      0.05      0.08       418\n",
      "\n",
      "    accuracy                           0.78      2000\n",
      "   macro avg       0.57      0.51      0.48      2000\n",
      "weighted avg       0.70      0.78      0.71      2000\n",
      "\n"
     ]
    }
   ],
   "source": [
    "target_predict_ohe=regression_model.predict(features_valid_ohe)\n",
    "print(classification_report(target_valid_ohe, target_predict_ohe))"
   ]
  },
  {
   "cell_type": "code",
   "execution_count": 19,
   "metadata": {},
   "outputs": [
    {
     "name": "stdout",
     "output_type": "stream",
     "text": [
      "[[1543   39]\n",
      " [ 398   20]]\n",
      "\n",
      "F1: 0.08385744234800838\n"
     ]
    }
   ],
   "source": [
    "# Se realiza una matriz de confusión \n",
    "print(confusion_matrix(target_valid_ohe, target_predict_ohe))\n",
    "print()\n",
    "print('F1:', f1_score(target_valid_ohe, target_predict_ohe))"
   ]
  },
  {
   "cell_type": "markdown",
   "metadata": {},
   "source": [
    "De esto se puede ver que el modelo es bastante pesimo porque hay muchos casos, casi la mayoria en donde el modelo predice negativos no lo son."
   ]
  },
  {
   "cell_type": "markdown",
   "metadata": {},
   "source": [
    "### Conclusión\n",
    "\n",
    "Se entreno tres tipos de modelos diferentes, un árbol de decisión, un bosque aleatorio y uno de regresión logística. El modelo que tuvo mejor resultado fue el de bosque aleatorio, sin embargo no es un buen modelo ya que hay muchos casos donde predice negativos cuando no lo son y lo mismo sucede con el modelo de regresión logística pero a mayor escala. Esto puede deberse a que hay mucho casos en donde el objetivo es negativo y por eso el modelo esta haciendo estas predicciones incorrectas. Para mejorar esto se puede un sobremuestreo o un submuestreo. También se puede mirar si algunas observaciones del conjunto son más importantes y se les asigna un peso."
   ]
  },
  {
   "cell_type": "markdown",
   "metadata": {},
   "source": [
    "## Mejorar la calidad del modelo"
   ]
  },
  {
   "cell_type": "markdown",
   "metadata": {},
   "source": [
    "### Ajuste de peso \n",
    "\n",
    "Se usa el argumento class_weight, donde a la clase rara le asigna un peso mayor"
   ]
  },
  {
   "cell_type": "code",
   "execution_count": 20,
   "metadata": {},
   "outputs": [
    {
     "name": "stdout",
     "output_type": "stream",
     "text": [
      "F1: 0.49166666666666664\n",
      "\n",
      "[[1095  487]\n",
      " [ 123  295]]\n"
     ]
    }
   ],
   "source": [
    "model_1=LogisticRegression(random_state=12345, solver='liblinear', class_weight='balanced')\n",
    "model_1.fit(features_train_ohe,target_train_ohe)\n",
    "predicted_valid_1=model_1.predict(features_valid_ohe)\n",
    "\n",
    "print('F1:', f1_score(target_valid_ohe, predicted_valid_1))\n",
    "print()\n",
    "print(confusion_matrix(target_valid_ohe, predicted_valid_1))"
   ]
  },
  {
   "cell_type": "markdown",
   "metadata": {},
   "source": [
    "#### Curva ROC"
   ]
  },
  {
   "cell_type": "code",
   "execution_count": 21,
   "metadata": {},
   "outputs": [
    {
     "data": {
      "image/png": "[encoded data removed]",
      "text/plain": [
       "<Figure size 640x480 with 1 Axes>"
      ]
     },
     "metadata": {},
     "output_type": "display_data"
    },
    {
     "name": "stdout",
     "output_type": "stream",
     "text": [
      "El valor de auc_roc es de: 0.7537231050272503\n"
     ]
    }
   ],
   "source": [
    "probabilities_valid = model_1.predict_proba(features_valid_ohe)\n",
    "probabilities_one_valid = probabilities_valid[:, 1]\n",
    "\n",
    "fpr, tpr, thresholds = roc_curve(target_valid_ohe,predicted_valid_1)\n",
    "\n",
    "plt.figure()\n",
    "plt.plot(fpr,tpr)\n",
    "\n",
    "# Curva ROC para modelo aleatorio\n",
    "plt.plot([0, 1], [0, 1], linestyle='--')\n",
    "plt.xlim([0.0, 1.0])\n",
    "plt.ylim([0.0, 1.0])\n",
    "plt.xlabel('Tasa de falsos positivos')\n",
    "plt.ylabel('Tasa de verdaderos positivos')\n",
    "plt.title('Curva ROC')\n",
    "plt.show()\n",
    "\n",
    "auc_roc=roc_auc_score(target_valid_ohe,probabilities_one_valid)\n",
    "print('El valor de auc_roc es de:',auc_roc)"
   ]
  },
  {
   "cell_type": "markdown",
   "metadata": {},
   "source": [
    "### Sobremuestreo\n",
    "Se divide el conjunto de datos de entrenamiento en observaciones positivas y negativas, luego se duplican las observaciones positivas de tal manera que las dos clases tengan tamaños similares. Se muliplica por 4 y luego se mezclan los datos."
   ]
  },
  {
   "cell_type": "code",
   "execution_count": 22,
   "metadata": {},
   "outputs": [],
   "source": [
    "#Defino una función para sobremuestreo\n",
    "def upsample(features, target, repeat):\n",
    "    features_zeros = features[target == 0]\n",
    "    features_ones = features[target == 1]\n",
    "    target_zeros = target[target == 0]\n",
    "    target_ones = target[target == 1]\n",
    "\n",
    "    features_upsampled = pd.concat([features_zeros] + [features_ones] * repeat)\n",
    "    target_upsampled = pd.concat([target_zeros] + [target_ones] * repeat)\n",
    "\n",
    "    features_upsampled, target_upsampled = shuffle(features_upsampled, target_upsampled, random_state=12345)\n",
    "\n",
    "    return features_upsampled, target_upsampled\n",
    "\n",
    "\n",
    "features_upsampled, target_upsampled = upsample(features_train_ohe, target_train_ohe, 4)"
   ]
  },
  {
   "cell_type": "code",
   "execution_count": 23,
   "metadata": {},
   "outputs": [
    {
     "name": "stdout",
     "output_type": "stream",
     "text": [
      "F1: 0.4512489927477841\n",
      "[[1039  543]\n",
      " [ 138  280]]\n"
     ]
    }
   ],
   "source": [
    "#Se crea el modelo \n",
    "model_2=LogisticRegression(random_state=12345,solver='liblinear')\n",
    "model_2.fit(features_upsampled,target_upsampled)\n",
    "predicted_valid_2=model_2.predict(features_valid_ohe)\n",
    "\n",
    "print('F1:', f1_score(target_valid_ohe, predicted_valid_2))\n",
    "print(confusion_matrix(target_valid_ohe, predicted_valid_2))"
   ]
  },
  {
   "cell_type": "markdown",
   "metadata": {},
   "source": [
    "#### Curva ROC "
   ]
  },
  {
   "cell_type": "code",
   "execution_count": 24,
   "metadata": {},
   "outputs": [
    {
     "data": {
      "image/png": "[encoded data removed]",
      "text/plain": [
       "<Figure size 640x480 with 1 Axes>"
      ]
     },
     "metadata": {},
     "output_type": "display_data"
    },
    {
     "name": "stdout",
     "output_type": "stream",
     "text": [
      "El valor de auc_roc es de: 0.7202726244412317\n"
     ]
    }
   ],
   "source": [
    "probabilities_valid = model_2.predict_proba(features_valid_ohe)\n",
    "probabilities_one_valid = probabilities_valid[:, 1]\n",
    "\n",
    "fpr, tpr, thresholds = roc_curve(target_valid_ohe,predicted_valid_2)\n",
    "\n",
    "plt.figure()\n",
    "plt.plot(fpr,tpr)\n",
    "\n",
    "# Curva ROC para modelo aleatorio\n",
    "plt.plot([0, 1], [0, 1], linestyle='--')\n",
    "plt.xlim([0.0, 1.0])\n",
    "plt.ylim([0.0, 1.0])\n",
    "plt.xlabel('Tasa de falsos positivos')\n",
    "plt.ylabel('Tasa de verdaderos positivos')\n",
    "plt.title('Curva ROC')\n",
    "plt.show()\n",
    "\n",
    "auc_roc=roc_auc_score(target_valid_ohe,probabilities_one_valid)\n",
    "print('El valor de auc_roc es de:',auc_roc)"
   ]
  },
  {
   "cell_type": "markdown",
   "metadata": {},
   "source": [
    "### Submuestreo\n",
    "Se divide el conjunto de datos en clases, después con la función sample() se selecciona aleatoriamente una fracción de los datos de la clase predominante para eliminar y se combinan las observaciones"
   ]
  },
  {
   "cell_type": "code",
   "execution_count": 25,
   "metadata": {},
   "outputs": [],
   "source": [
    "def downsample(features, target, fraction):\n",
    "    features_zeros = features[target == 0]\n",
    "    features_ones = features[target == 1]\n",
    "    target_zeros = target[target == 0]\n",
    "    target_ones = target[target == 1]\n",
    "\n",
    "    features_downsampled = pd.concat([features_zeros.sample(frac=fraction, random_state=12345)]+ [features_ones])\n",
    "    target_downsampled = pd.concat([target_zeros.sample(frac=fraction, random_state=12345)]+ [target_ones])\n",
    "\n",
    "    features_downsampled, target_downsampled = shuffle(features_downsampled, target_downsampled, random_state=12345)\n",
    "\n",
    "    return features_downsampled, target_downsampled\n",
    "\n",
    "\n",
    "features_downsampled, target_downsampled = downsample(features_train_ohe, target_train_ohe, 0.3)"
   ]
  },
  {
   "cell_type": "code",
   "execution_count": 26,
   "metadata": {},
   "outputs": [
    {
     "name": "stdout",
     "output_type": "stream",
     "text": [
      "F1: 0.4601449275362319\n",
      "\n",
      "[[1150  432]\n",
      " [ 164  254]]\n"
     ]
    }
   ],
   "source": [
    "#Se crea el modelo\n",
    "model_3=LogisticRegression(random_state=12345, solver='liblinear')\n",
    "model_3.fit(features_downsampled, target_downsampled)\n",
    "predicted_valid_3=model_3.predict(features_valid_ohe)\n",
    "\n",
    "print('F1:', f1_score(target_valid_ohe, predicted_valid_3))\n",
    "print()\n",
    "print(confusion_matrix(target_valid_ohe, predicted_valid_3))"
   ]
  },
  {
   "cell_type": "code",
   "execution_count": 27,
   "metadata": {},
   "outputs": [
    {
     "data": {
      "image/png": "[encoded data removed]",
      "text/plain": [
       "<Figure size 640x480 with 1 Axes>"
      ]
     },
     "metadata": {},
     "output_type": "display_data"
    },
    {
     "name": "stdout",
     "output_type": "stream",
     "text": [
      "El valor de auc_roc es de: 0.7152837846829463\n"
     ]
    }
   ],
   "source": [
    "probabilities_valid = model_3.predict_proba(features_valid_ohe)\n",
    "probabilities_one_valid = probabilities_valid[:, 1]\n",
    "\n",
    "fpr, tpr, thresholds = roc_curve(target_valid_ohe,predicted_valid_3)\n",
    "\n",
    "plt.figure()\n",
    "plt.plot(fpr,tpr)\n",
    "\n",
    "# Curva ROC para modelo aleatorio\n",
    "plt.plot([0, 1], [0, 1], linestyle='--')\n",
    "plt.xlim([0.0, 1.0])\n",
    "plt.ylim([0.0, 1.0])\n",
    "plt.xlabel('Tasa de falsos positivos')\n",
    "plt.ylabel('Tasa de verdaderos positivos')\n",
    "plt.title('Curva ROC')\n",
    "plt.show()\n",
    "\n",
    "auc_roc=roc_auc_score(target_valid_ohe,probabilities_one_valid)\n",
    "print('El valor de auc_roc es de:',auc_roc)"
   ]
  },
  {
   "cell_type": "markdown",
   "metadata": {},
   "source": [
    "### Conclusiones\n",
    "\n",
    "Para mejorar el modelo de regresión logística se realizo el balance de clases. Las técnicas que se usaron para mejorar el desequilibrio que había en las clases fueron: \n",
    "\n",
    "* Ajuste de peso, en donde el algoritmo calcula la frecuencia de las clases, y a la que tiene menor frecuencia (la clase rara) le asigna un peso mayor. \n",
    "\n",
    "* Sobremuestreo\n",
    "\n",
    "* Submuestreo\n",
    "\n",
    "El modelo en el que se obtuvo mejores resultados fue el de ajuste de peso donde el valor de F1 fue de 0.49 y también tuvo un valor auc_roc de 0.7537231050272503 y el segundo que se fue el modelo de submuestreo, en el cual se obttuvo un valor de F1 de 0.46. \n"
   ]
  },
  {
   "cell_type": "markdown",
   "metadata": {},
   "source": [
    "## Prueba final"
   ]
  },
  {
   "cell_type": "code",
   "execution_count": 28,
   "metadata": {},
   "outputs": [],
   "source": [
    "# juntar los datos de entrenamiento y validación\n",
    "features= pd.concat([features_train_ohe,features_valid_ohe]).reset_index(drop=True)\n",
    "target=pd.concat([target_train_ohe,target_valid_ohe]).reset_index(drop=True)"
   ]
  },
  {
   "cell_type": "code",
   "execution_count": 29,
   "metadata": {},
   "outputs": [
    {
     "name": "stdout",
     "output_type": "stream",
     "text": [
      "F1: 0.4739249771271729\n",
      "\n",
      "[[1166  411]\n",
      " [ 164  259]]\n"
     ]
    }
   ],
   "source": [
    "#Submuestreo\n",
    "features_downsampled, target_downsampled = downsample(features, target, 0.3)\n",
    "\n",
    "model=LogisticRegression(random_state=12345, solver='liblinear')\n",
    "model.fit(features_downsampled, target_downsampled)\n",
    "predicted_test=model.predict(features_test_ohe)\n",
    "\n",
    "print('F1:', f1_score(target_test_ohe, predicted_test))\n",
    "print()\n",
    "print(confusion_matrix(target_test_ohe, predicted_test))"
   ]
  },
  {
   "cell_type": "code",
   "execution_count": 30,
   "metadata": {},
   "outputs": [
    {
     "data": {
      "image/png": "[encoded data removed]",
      "text/plain": [
       "<Figure size 640x480 with 1 Axes>"
      ]
     },
     "metadata": {},
     "output_type": "display_data"
    }
   ],
   "source": [
    "probabilities_valid = model.predict_proba(features_test_ohe)\n",
    "probabilities_one_valid = probabilities_valid[:, 1]\n",
    "\n",
    "fpr, tpr, thresholds = roc_curve(target_test_ohe,predicted_test)\n",
    "\n",
    "plt.figure()\n",
    "plt.plot(fpr,tpr)\n",
    "\n",
    "# Curva ROC para modelo aleatorio\n",
    "plt.plot([0, 1], [0, 1], linestyle='--')\n",
    "plt.xlim([0.0, 1.0])\n",
    "plt.ylim([0.0, 1.0])\n",
    "plt.xlabel('Tasa de falsos positivos')\n",
    "plt.ylabel('Tasa de verdaderos positivos')\n",
    "plt.title('Curva ROC')\n",
    "plt.show()"
   ]
  },
  {
   "cell_type": "markdown",
   "metadata": {},
   "source": [
    "Haciendo el modelo con submuestreo se pudo mejorar mucho la calidad del modelo, en comparación a lo que se obtenia cuando no se realizaba nada, debido a que los datos estaban desequilibrados. El valor de F1 subio sugnificativamente para este último modelo comparado al primer modelo de regresión logística que se realizo sin hacerle nada a los datos. Para este caso se obtuvo mejores resultados cuando se hacia submuestreo, es decir que se elimaba una fracción de los datos de la clase predominante para que la cantidad de datos que haya de ambas clases sea muy similar. Para el primer modelo casi la mayoria en donde el modelo predicia negativos no lo eran y no estaba prediciendo casi los "
   ]
  }
 ],
 "metadata": {
  "ExecuteTimeLog": [
   {
    "duration": 1053,
    "start_time": "2024-10-31T22:03:30.009Z"
   },
   {
    "duration": 15,
    "start_time": "2024-10-31T22:03:50.225Z"
   },
   {
    "duration": 3,
    "start_time": "2024-10-31T22:04:30.465Z"
   },
   {
    "duration": 25,
    "start_time": "2024-10-31T22:05:50.874Z"
   },
   {
    "duration": 11,
    "start_time": "2024-10-31T22:05:56.531Z"
   },
   {
    "duration": 13,
    "start_time": "2024-10-31T22:10:03.734Z"
   },
   {
    "duration": 14,
    "start_time": "2024-10-31T22:11:39.878Z"
   },
   {
    "duration": 22,
    "start_time": "2024-10-31T22:12:02.814Z"
   },
   {
    "duration": 15,
    "start_time": "2024-10-31T22:17:33.382Z"
   },
   {
    "duration": 7,
    "start_time": "2024-10-31T22:18:30.582Z"
   },
   {
    "duration": 16,
    "start_time": "2024-10-31T22:18:33.426Z"
   },
   {
    "duration": 9,
    "start_time": "2024-10-31T22:20:29.595Z"
   },
   {
    "duration": 5,
    "start_time": "2024-10-31T22:21:12.703Z"
   },
   {
    "duration": 4,
    "start_time": "2024-10-31T22:21:22.107Z"
   },
   {
    "duration": 9,
    "start_time": "2024-10-31T22:23:08.707Z"
   },
   {
    "duration": 9,
    "start_time": "2024-10-31T22:23:29.587Z"
   },
   {
    "duration": 10,
    "start_time": "2024-10-31T22:34:19.945Z"
   },
   {
    "duration": 4,
    "start_time": "2024-10-31T22:35:52.166Z"
   },
   {
    "duration": 7,
    "start_time": "2024-10-31T22:36:56.879Z"
   },
   {
    "duration": 7,
    "start_time": "2024-10-31T22:38:42.251Z"
   },
   {
    "duration": 5,
    "start_time": "2024-10-31T22:40:14.418Z"
   },
   {
    "duration": 3,
    "start_time": "2024-10-31T22:41:56.973Z"
   },
   {
    "duration": 698,
    "start_time": "2024-10-31T22:42:03.812Z"
   },
   {
    "duration": 4,
    "start_time": "2024-10-31T22:42:12.168Z"
   },
   {
    "duration": 14,
    "start_time": "2024-10-31T22:42:17.042Z"
   },
   {
    "duration": 15,
    "start_time": "2024-10-31T22:42:28.007Z"
   },
   {
    "duration": 10,
    "start_time": "2024-10-31T22:42:28.746Z"
   },
   {
    "duration": 6,
    "start_time": "2024-10-31T22:42:33.462Z"
   },
   {
    "duration": 15,
    "start_time": "2024-10-31T22:42:47.351Z"
   },
   {
    "duration": 17,
    "start_time": "2024-10-31T22:42:52.066Z"
   },
   {
    "duration": 15,
    "start_time": "2024-10-31T22:44:11.901Z"
   },
   {
    "duration": 10,
    "start_time": "2024-10-31T22:44:15.204Z"
   },
   {
    "duration": 4,
    "start_time": "2024-10-31T22:44:21.828Z"
   },
   {
    "duration": 3,
    "start_time": "2024-10-31T22:44:26.897Z"
   },
   {
    "duration": 2,
    "start_time": "2024-10-31T22:44:33.285Z"
   },
   {
    "duration": 13,
    "start_time": "2024-10-31T22:46:01.490Z"
   },
   {
    "duration": 15,
    "start_time": "2024-10-31T22:46:10.685Z"
   },
   {
    "duration": 4,
    "start_time": "2024-10-31T22:46:14.749Z"
   },
   {
    "duration": 9,
    "start_time": "2024-10-31T22:46:15.987Z"
   },
   {
    "duration": 10,
    "start_time": "2024-10-31T22:46:34.922Z"
   },
   {
    "duration": 8,
    "start_time": "2024-10-31T22:47:35.171Z"
   },
   {
    "duration": 6,
    "start_time": "2024-10-31T22:47:36.094Z"
   },
   {
    "duration": 790,
    "start_time": "2024-11-01T14:46:29.635Z"
   },
   {
    "duration": 29,
    "start_time": "2024-11-01T14:46:30.427Z"
   },
   {
    "duration": 11,
    "start_time": "2024-11-01T14:46:30.457Z"
   },
   {
    "duration": 13,
    "start_time": "2024-11-01T14:46:30.471Z"
   },
   {
    "duration": 7,
    "start_time": "2024-11-01T14:46:30.486Z"
   },
   {
    "duration": 18,
    "start_time": "2024-11-01T14:46:30.495Z"
   },
   {
    "duration": 5,
    "start_time": "2024-11-01T14:46:30.515Z"
   },
   {
    "duration": 5,
    "start_time": "2024-11-01T14:46:30.522Z"
   },
   {
    "duration": 3,
    "start_time": "2024-11-01T16:38:26.133Z"
   },
   {
    "duration": 219,
    "start_time": "2024-11-01T16:41:46.739Z"
   },
   {
    "duration": 4,
    "start_time": "2024-11-01T16:42:47.411Z"
   },
   {
    "duration": 30,
    "start_time": "2024-11-01T16:42:53.645Z"
   },
   {
    "duration": 786,
    "start_time": "2024-11-01T16:55:36.132Z"
   },
   {
    "duration": 16,
    "start_time": "2024-11-01T16:55:36.920Z"
   },
   {
    "duration": 11,
    "start_time": "2024-11-01T16:55:36.938Z"
   },
   {
    "duration": 14,
    "start_time": "2024-11-01T16:55:36.951Z"
   },
   {
    "duration": 9,
    "start_time": "2024-11-01T16:55:36.967Z"
   },
   {
    "duration": 35,
    "start_time": "2024-11-01T16:55:36.977Z"
   },
   {
    "duration": 5,
    "start_time": "2024-11-01T16:55:37.014Z"
   },
   {
    "duration": 5,
    "start_time": "2024-11-01T16:55:37.021Z"
   },
   {
    "duration": 335,
    "start_time": "2024-11-01T16:58:19.944Z"
   },
   {
    "duration": 5,
    "start_time": "2024-11-01T17:02:06.892Z"
   },
   {
    "duration": 16,
    "start_time": "2024-11-01T17:02:12.216Z"
   },
   {
    "duration": 3,
    "start_time": "2024-11-01T17:03:10.716Z"
   },
   {
    "duration": 26,
    "start_time": "2024-11-01T17:03:29.268Z"
   },
   {
    "duration": 16,
    "start_time": "2024-11-01T17:03:36.579Z"
   },
   {
    "duration": 27,
    "start_time": "2024-11-01T17:03:48.743Z"
   },
   {
    "duration": 17,
    "start_time": "2024-11-01T17:05:03.276Z"
   },
   {
    "duration": 4,
    "start_time": "2024-11-01T17:11:04.442Z"
   },
   {
    "duration": 3,
    "start_time": "2024-11-01T18:29:31.879Z"
   },
   {
    "duration": 11,
    "start_time": "2024-11-01T18:29:41.705Z"
   },
   {
    "duration": 6,
    "start_time": "2024-11-01T18:29:48.289Z"
   },
   {
    "duration": 6,
    "start_time": "2024-11-01T18:29:51.163Z"
   },
   {
    "duration": 28,
    "start_time": "2024-11-01T18:30:19.021Z"
   },
   {
    "duration": 5,
    "start_time": "2024-11-01T18:33:43.245Z"
   },
   {
    "duration": 5,
    "start_time": "2024-11-01T18:35:33.462Z"
   },
   {
    "duration": 140,
    "start_time": "2024-11-01T18:36:02.063Z"
   },
   {
    "duration": 30090,
    "start_time": "2024-11-01T18:38:21.922Z"
   },
   {
    "duration": 26256,
    "start_time": "2024-11-01T18:44:05.399Z"
   },
   {
    "duration": 361,
    "start_time": "2024-11-01T18:45:04.663Z"
   },
   {
    "duration": 138,
    "start_time": "2024-11-01T18:45:16.844Z"
   },
   {
    "duration": 9,
    "start_time": "2024-11-01T18:45:30.039Z"
   },
   {
    "duration": 141,
    "start_time": "2024-11-01T18:45:38.093Z"
   },
   {
    "duration": 12,
    "start_time": "2024-11-01T18:48:15.948Z"
   },
   {
    "duration": 19,
    "start_time": "2024-11-01T18:50:52.388Z"
   },
   {
    "duration": 8,
    "start_time": "2024-11-01T18:53:23.394Z"
   },
   {
    "duration": 6,
    "start_time": "2024-11-01T18:55:40.059Z"
   },
   {
    "duration": 5,
    "start_time": "2024-11-01T18:56:26.392Z"
   },
   {
    "duration": 41,
    "start_time": "2024-11-01T18:57:21.814Z"
   },
   {
    "duration": 95,
    "start_time": "2024-11-01T18:58:32.498Z"
   },
   {
    "duration": 7,
    "start_time": "2024-11-01T18:58:58.801Z"
   },
   {
    "duration": 56,
    "start_time": "2024-11-01T18:58:59.416Z"
   },
   {
    "duration": 8,
    "start_time": "2024-11-01T18:59:44.148Z"
   },
   {
    "duration": 6,
    "start_time": "2024-11-01T18:59:44.724Z"
   },
   {
    "duration": 6,
    "start_time": "2024-11-01T18:59:45.420Z"
   },
   {
    "duration": 51,
    "start_time": "2024-11-01T18:59:46.128Z"
   },
   {
    "duration": 39,
    "start_time": "2024-11-01T18:59:52.557Z"
   },
   {
    "duration": 30,
    "start_time": "2024-11-01T18:59:57.367Z"
   },
   {
    "duration": 51,
    "start_time": "2024-11-01T19:00:12.945Z"
   },
   {
    "duration": 13,
    "start_time": "2024-11-01T19:00:38.927Z"
   },
   {
    "duration": 17,
    "start_time": "2024-11-01T19:02:18.448Z"
   },
   {
    "duration": 10,
    "start_time": "2024-11-01T19:02:19.215Z"
   },
   {
    "duration": 10,
    "start_time": "2024-11-01T19:02:35.029Z"
   },
   {
    "duration": 55,
    "start_time": "2024-11-01T19:03:51.221Z"
   },
   {
    "duration": 493,
    "start_time": "2024-11-01T19:04:27.542Z"
   },
   {
    "duration": 6,
    "start_time": "2024-11-01T19:04:59.523Z"
   },
   {
    "duration": 13,
    "start_time": "2024-11-01T19:05:39.021Z"
   },
   {
    "duration": 478,
    "start_time": "2024-11-01T19:09:29.070Z"
   },
   {
    "duration": 22,
    "start_time": "2024-11-01T19:09:54.346Z"
   },
   {
    "duration": 5,
    "start_time": "2024-11-01T19:10:36.221Z"
   },
   {
    "duration": 5,
    "start_time": "2024-11-01T19:10:50.773Z"
   },
   {
    "duration": 206,
    "start_time": "2024-11-01T19:11:18.337Z"
   },
   {
    "duration": 13,
    "start_time": "2024-11-01T19:15:49.135Z"
   },
   {
    "duration": 15,
    "start_time": "2024-11-01T19:16:38.734Z"
   },
   {
    "duration": 122,
    "start_time": "2024-11-01T19:17:10.623Z"
   },
   {
    "duration": 788,
    "start_time": "2024-11-01T19:17:56.034Z"
   },
   {
    "duration": 16,
    "start_time": "2024-11-01T19:17:56.825Z"
   },
   {
    "duration": 11,
    "start_time": "2024-11-01T19:17:56.842Z"
   },
   {
    "duration": 13,
    "start_time": "2024-11-01T19:17:56.855Z"
   },
   {
    "duration": 3,
    "start_time": "2024-11-01T19:17:56.872Z"
   },
   {
    "duration": 36,
    "start_time": "2024-11-01T19:17:56.877Z"
   },
   {
    "duration": 3,
    "start_time": "2024-11-01T19:17:56.914Z"
   },
   {
    "duration": 8,
    "start_time": "2024-11-01T19:17:56.919Z"
   },
   {
    "duration": 10,
    "start_time": "2024-11-01T19:17:56.929Z"
   },
   {
    "duration": 6,
    "start_time": "2024-11-01T19:17:56.940Z"
   },
   {
    "duration": 5,
    "start_time": "2024-11-01T19:17:56.948Z"
   },
   {
    "duration": 60,
    "start_time": "2024-11-01T19:17:56.955Z"
   },
   {
    "duration": 5,
    "start_time": "2024-11-01T19:17:57.017Z"
   },
   {
    "duration": 4,
    "start_time": "2024-11-01T19:17:57.025Z"
   },
   {
    "duration": 155,
    "start_time": "2024-11-01T19:17:57.031Z"
   },
   {
    "duration": 26235,
    "start_time": "2024-11-01T19:17:57.187Z"
   },
   {
    "duration": 7,
    "start_time": "2024-11-01T19:18:23.424Z"
   },
   {
    "duration": 6,
    "start_time": "2024-11-01T19:18:23.433Z"
   },
   {
    "duration": 6,
    "start_time": "2024-11-01T19:18:23.440Z"
   },
   {
    "duration": 289,
    "start_time": "2024-11-01T19:18:54.703Z"
   },
   {
    "duration": 13,
    "start_time": "2024-11-01T19:19:07.839Z"
   },
   {
    "duration": 14,
    "start_time": "2024-11-01T19:19:31.771Z"
   },
   {
    "duration": 6,
    "start_time": "2024-11-01T19:21:11.352Z"
   },
   {
    "duration": 5,
    "start_time": "2024-11-01T19:22:25.324Z"
   },
   {
    "duration": 14,
    "start_time": "2024-11-01T19:22:29.843Z"
   },
   {
    "duration": 14,
    "start_time": "2024-11-01T19:22:38.082Z"
   },
   {
    "duration": 15,
    "start_time": "2024-11-01T19:23:21.540Z"
   },
   {
    "duration": 14,
    "start_time": "2024-11-01T19:24:36.809Z"
   },
   {
    "duration": 5,
    "start_time": "2024-11-01T19:25:05.681Z"
   },
   {
    "duration": 14,
    "start_time": "2024-11-01T19:25:14.700Z"
   },
   {
    "duration": 15,
    "start_time": "2024-11-01T19:25:27.040Z"
   },
   {
    "duration": 5,
    "start_time": "2024-11-01T19:25:40.809Z"
   },
   {
    "duration": 13,
    "start_time": "2024-11-01T19:25:41.435Z"
   },
   {
    "duration": 20,
    "start_time": "2024-11-01T19:25:43.880Z"
   },
   {
    "duration": 20,
    "start_time": "2024-11-01T19:26:10.243Z"
   },
   {
    "duration": 22,
    "start_time": "2024-11-01T19:43:13.185Z"
   },
   {
    "duration": 25959,
    "start_time": "2024-11-01T19:43:23.795Z"
   },
   {
    "duration": 4,
    "start_time": "2024-11-01T19:44:31.914Z"
   },
   {
    "duration": 25860,
    "start_time": "2024-11-01T19:44:54.731Z"
   },
   {
    "duration": 7,
    "start_time": "2024-11-01T20:37:55.293Z"
   },
   {
    "duration": 8,
    "start_time": "2024-11-01T20:38:10.967Z"
   },
   {
    "duration": 6,
    "start_time": "2024-11-01T20:38:11.554Z"
   },
   {
    "duration": 6,
    "start_time": "2024-11-01T20:38:12.285Z"
   },
   {
    "duration": 28,
    "start_time": "2024-11-01T20:38:13.866Z"
   },
   {
    "duration": 7,
    "start_time": "2024-11-01T20:38:21.224Z"
   },
   {
    "duration": 797,
    "start_time": "2024-11-01T20:40:33.825Z"
   },
   {
    "duration": 15,
    "start_time": "2024-11-01T20:40:37.066Z"
   },
   {
    "duration": 10,
    "start_time": "2024-11-01T20:40:42.179Z"
   },
   {
    "duration": 13,
    "start_time": "2024-11-01T20:40:49.606Z"
   },
   {
    "duration": 4,
    "start_time": "2024-11-01T20:40:54.038Z"
   },
   {
    "duration": 600,
    "start_time": "2024-11-01T20:40:56.107Z"
   },
   {
    "duration": 4,
    "start_time": "2024-11-01T20:41:08.577Z"
   },
   {
    "duration": 5,
    "start_time": "2024-11-01T20:41:22.164Z"
   },
   {
    "duration": 3,
    "start_time": "2024-11-01T20:41:26.583Z"
   },
   {
    "duration": 10,
    "start_time": "2024-11-01T20:41:28.812Z"
   },
   {
    "duration": 10,
    "start_time": "2024-11-01T20:42:27.353Z"
   },
   {
    "duration": 4,
    "start_time": "2024-11-01T20:42:33.591Z"
   },
   {
    "duration": 30,
    "start_time": "2024-11-01T20:46:28.915Z"
   },
   {
    "duration": 6,
    "start_time": "2024-11-01T20:47:28.397Z"
   },
   {
    "duration": 4,
    "start_time": "2024-11-01T20:48:25.150Z"
   },
   {
    "duration": 2,
    "start_time": "2024-11-01T20:50:23.332Z"
   },
   {
    "duration": 3,
    "start_time": "2024-11-01T20:51:24.178Z"
   },
   {
    "duration": 28,
    "start_time": "2024-11-01T20:51:27.452Z"
   },
   {
    "duration": 5,
    "start_time": "2024-11-01T20:51:36.252Z"
   },
   {
    "duration": 5,
    "start_time": "2024-11-01T20:51:49.678Z"
   },
   {
    "duration": 21,
    "start_time": "2024-11-01T20:52:32.385Z"
   },
   {
    "duration": 26306,
    "start_time": "2024-11-01T20:54:33.014Z"
   },
   {
    "duration": 14960,
    "start_time": "2024-11-01T20:55:47.238Z"
   },
   {
    "duration": 16,
    "start_time": "2024-11-01T21:04:03.825Z"
   },
   {
    "duration": 26341,
    "start_time": "2024-11-01T21:04:47.632Z"
   },
   {
    "duration": 810,
    "start_time": "2024-11-01T21:06:22.508Z"
   },
   {
    "duration": 16,
    "start_time": "2024-11-01T21:06:24.188Z"
   },
   {
    "duration": 12,
    "start_time": "2024-11-01T21:06:25.372Z"
   },
   {
    "duration": 6,
    "start_time": "2024-11-01T21:06:30.169Z"
   },
   {
    "duration": 3,
    "start_time": "2024-11-01T21:06:31.552Z"
   },
   {
    "duration": 18,
    "start_time": "2024-11-01T21:06:36.796Z"
   },
   {
    "duration": 3,
    "start_time": "2024-11-01T21:06:53.454Z"
   },
   {
    "duration": 10,
    "start_time": "2024-11-01T21:06:55.771Z"
   },
   {
    "duration": 4,
    "start_time": "2024-11-01T21:06:59.097Z"
   },
   {
    "duration": 29,
    "start_time": "2024-11-01T21:07:07.317Z"
   },
   {
    "duration": 6,
    "start_time": "2024-11-01T21:07:15.996Z"
   },
   {
    "duration": 5,
    "start_time": "2024-11-01T21:07:17.731Z"
   },
   {
    "duration": 26391,
    "start_time": "2024-11-01T21:07:24.943Z"
   },
   {
    "duration": 26283,
    "start_time": "2024-11-01T21:09:03.893Z"
   },
   {
    "duration": 137,
    "start_time": "2024-11-01T21:11:51.091Z"
   },
   {
    "duration": 7,
    "start_time": "2024-11-01T21:13:31.059Z"
   },
   {
    "duration": 6,
    "start_time": "2024-11-01T21:13:47.192Z"
   },
   {
    "duration": 6,
    "start_time": "2024-11-01T21:13:48.456Z"
   },
   {
    "duration": 6,
    "start_time": "2024-11-01T21:14:30.236Z"
   },
   {
    "duration": 5,
    "start_time": "2024-11-01T21:15:40.388Z"
   },
   {
    "duration": 6,
    "start_time": "2024-11-01T21:15:46.547Z"
   },
   {
    "duration": 21,
    "start_time": "2024-11-01T21:15:49.935Z"
   },
   {
    "duration": 21,
    "start_time": "2024-11-01T21:17:58.315Z"
   },
   {
    "duration": 12,
    "start_time": "2024-11-01T21:18:09.838Z"
   },
   {
    "duration": 23,
    "start_time": "2024-11-01T21:19:45.696Z"
   },
   {
    "duration": 19,
    "start_time": "2024-11-01T21:19:52.640Z"
   },
   {
    "duration": 142,
    "start_time": "2024-11-01T21:22:05.582Z"
   },
   {
    "duration": 158,
    "start_time": "2024-11-01T21:24:32.948Z"
   },
   {
    "duration": 26437,
    "start_time": "2024-11-01T21:24:52.472Z"
   },
   {
    "duration": 9,
    "start_time": "2024-11-01T21:26:07.467Z"
   },
   {
    "duration": 8,
    "start_time": "2024-11-01T21:26:40.140Z"
   },
   {
    "duration": 7,
    "start_time": "2024-11-01T21:26:41.032Z"
   },
   {
    "duration": 5,
    "start_time": "2024-11-01T21:26:42.287Z"
   },
   {
    "duration": 22,
    "start_time": "2024-11-01T21:26:43.976Z"
   },
   {
    "duration": 11,
    "start_time": "2024-11-01T21:26:46.264Z"
   },
   {
    "duration": 5,
    "start_time": "2024-11-01T21:28:54.362Z"
   },
   {
    "duration": 39,
    "start_time": "2024-11-01T21:35:09.420Z"
   },
   {
    "duration": 41,
    "start_time": "2024-11-01T21:37:10.395Z"
   },
   {
    "duration": 4,
    "start_time": "2024-11-01T21:37:23.751Z"
   },
   {
    "duration": 14,
    "start_time": "2024-11-01T21:37:37.724Z"
   },
   {
    "duration": 4,
    "start_time": "2024-11-01T21:37:40.272Z"
   },
   {
    "duration": 14,
    "start_time": "2024-11-01T21:39:12.120Z"
   },
   {
    "duration": 322,
    "start_time": "2024-11-01T21:39:19.135Z"
   },
   {
    "duration": 11,
    "start_time": "2024-11-01T21:39:52.521Z"
   },
   {
    "duration": 57,
    "start_time": "2024-11-01T21:40:01.404Z"
   },
   {
    "duration": 6,
    "start_time": "2024-11-01T21:40:09.751Z"
   },
   {
    "duration": 5,
    "start_time": "2024-11-01T21:45:18.809Z"
   },
   {
    "duration": 5,
    "start_time": "2024-11-01T21:55:58.028Z"
   },
   {
    "duration": 5,
    "start_time": "2024-11-01T21:56:14.488Z"
   },
   {
    "duration": 5,
    "start_time": "2024-11-01T21:58:04.436Z"
   },
   {
    "duration": 15,
    "start_time": "2024-11-01T21:58:11.964Z"
   },
   {
    "duration": 5,
    "start_time": "2024-11-01T21:58:19.069Z"
   },
   {
    "duration": 3,
    "start_time": "2024-11-01T22:29:23.426Z"
   },
   {
    "duration": 17,
    "start_time": "2024-11-01T22:41:44.837Z"
   },
   {
    "duration": 31,
    "start_time": "2024-11-01T22:42:22.032Z"
   },
   {
    "duration": 31,
    "start_time": "2024-11-01T22:44:15.944Z"
   },
   {
    "duration": 12,
    "start_time": "2024-11-01T22:45:34.537Z"
   },
   {
    "duration": 52,
    "start_time": "2024-11-01T22:45:36.017Z"
   },
   {
    "duration": 10,
    "start_time": "2024-11-01T22:45:44.717Z"
   },
   {
    "duration": 29,
    "start_time": "2024-11-01T22:45:45.326Z"
   },
   {
    "duration": 9,
    "start_time": "2024-11-01T22:45:52.283Z"
   },
   {
    "duration": 35,
    "start_time": "2024-11-01T22:45:53.057Z"
   },
   {
    "duration": 9,
    "start_time": "2024-11-01T22:45:58.269Z"
   },
   {
    "duration": 32,
    "start_time": "2024-11-01T22:45:58.978Z"
   },
   {
    "duration": 7,
    "start_time": "2024-11-01T22:49:35.280Z"
   },
   {
    "duration": 9,
    "start_time": "2024-11-01T22:56:39.515Z"
   },
   {
    "duration": 8,
    "start_time": "2024-11-01T22:57:09.815Z"
   },
   {
    "duration": 13,
    "start_time": "2024-11-01T22:57:57.836Z"
   },
   {
    "duration": 8,
    "start_time": "2024-11-01T22:58:08.255Z"
   },
   {
    "duration": 14,
    "start_time": "2024-11-01T22:58:08.840Z"
   },
   {
    "duration": 21,
    "start_time": "2024-11-01T23:00:47.633Z"
   },
   {
    "duration": 10,
    "start_time": "2024-11-01T23:02:08.925Z"
   },
   {
    "duration": 15,
    "start_time": "2024-11-01T23:02:10.104Z"
   },
   {
    "duration": 9,
    "start_time": "2024-11-01T23:02:35.245Z"
   },
   {
    "duration": 15,
    "start_time": "2024-11-01T23:02:36.217Z"
   },
   {
    "duration": 9,
    "start_time": "2024-11-01T23:02:41.733Z"
   },
   {
    "duration": 21,
    "start_time": "2024-11-01T23:02:42.605Z"
   },
   {
    "duration": 10,
    "start_time": "2024-11-01T23:02:51.029Z"
   },
   {
    "duration": 18,
    "start_time": "2024-11-01T23:02:51.625Z"
   },
   {
    "duration": 9,
    "start_time": "2024-11-01T23:02:57.793Z"
   },
   {
    "duration": 17,
    "start_time": "2024-11-01T23:02:58.694Z"
   },
   {
    "duration": 12,
    "start_time": "2024-11-01T23:03:02.785Z"
   },
   {
    "duration": 18,
    "start_time": "2024-11-01T23:03:03.656Z"
   },
   {
    "duration": 9,
    "start_time": "2024-11-01T23:03:54.915Z"
   },
   {
    "duration": 16,
    "start_time": "2024-11-01T23:03:55.541Z"
   },
   {
    "duration": 8,
    "start_time": "2024-11-01T23:06:54.395Z"
   },
   {
    "duration": 17,
    "start_time": "2024-11-01T23:06:55.117Z"
   },
   {
    "duration": 9,
    "start_time": "2024-11-01T23:07:04.194Z"
   },
   {
    "duration": 15,
    "start_time": "2024-11-01T23:07:04.730Z"
   },
   {
    "duration": 15,
    "start_time": "2024-11-01T23:07:39.455Z"
   },
   {
    "duration": 16,
    "start_time": "2024-11-01T23:09:06.270Z"
   },
   {
    "duration": 839,
    "start_time": "2024-11-01T23:14:57.991Z"
   },
   {
    "duration": 18,
    "start_time": "2024-11-01T23:15:12.230Z"
   },
   {
    "duration": 21,
    "start_time": "2024-11-01T23:18:40.593Z"
   },
   {
    "duration": 33,
    "start_time": "2024-11-01T23:19:29.736Z"
   },
   {
    "duration": 10,
    "start_time": "2024-11-01T23:23:37.674Z"
   },
   {
    "duration": 178,
    "start_time": "2024-11-01T23:23:41.608Z"
   },
   {
    "duration": 30,
    "start_time": "2024-11-01T23:23:53.761Z"
   },
   {
    "duration": 31,
    "start_time": "2024-11-01T23:26:25.587Z"
   },
   {
    "duration": 3,
    "start_time": "2024-11-01T23:26:27.668Z"
   },
   {
    "duration": 10,
    "start_time": "2024-11-01T23:33:10.042Z"
   },
   {
    "duration": 106,
    "start_time": "2024-11-01T23:33:10.707Z"
   },
   {
    "duration": 25,
    "start_time": "2024-11-01T23:33:16.635Z"
   },
   {
    "duration": 44,
    "start_time": "2024-11-01T23:33:51.144Z"
   },
   {
    "duration": 10,
    "start_time": "2024-11-01T23:34:11.286Z"
   },
   {
    "duration": 120,
    "start_time": "2024-11-01T23:34:11.986Z"
   },
   {
    "duration": 23,
    "start_time": "2024-11-01T23:34:17.893Z"
   },
   {
    "duration": 4,
    "start_time": "2024-11-01T23:35:01.435Z"
   },
   {
    "duration": 1800,
    "start_time": "2024-11-01T23:35:13.929Z"
   },
   {
    "duration": 211,
    "start_time": "2024-11-01T23:35:39.559Z"
   },
   {
    "duration": 4,
    "start_time": "2024-11-01T23:44:10.598Z"
   },
   {
    "duration": 877,
    "start_time": "2024-11-01T23:44:55.016Z"
   },
   {
    "duration": 16,
    "start_time": "2024-11-01T23:44:56.988Z"
   },
   {
    "duration": 11,
    "start_time": "2024-11-01T23:44:58.388Z"
   },
   {
    "duration": 3,
    "start_time": "2024-11-01T23:45:07.220Z"
   },
   {
    "duration": 11,
    "start_time": "2024-11-01T23:45:10.468Z"
   },
   {
    "duration": 3,
    "start_time": "2024-11-01T23:45:17.489Z"
   },
   {
    "duration": 74,
    "start_time": "2024-11-01T23:45:28.693Z"
   },
   {
    "duration": 6,
    "start_time": "2024-11-01T23:45:37.892Z"
   },
   {
    "duration": 5,
    "start_time": "2024-11-01T23:45:42.369Z"
   },
   {
    "duration": 358,
    "start_time": "2024-11-01T23:45:51.308Z"
   },
   {
    "duration": 143,
    "start_time": "2024-11-01T23:46:15.697Z"
   },
   {
    "duration": 26389,
    "start_time": "2024-11-01T23:47:51.348Z"
   },
   {
    "duration": 5,
    "start_time": "2024-11-01T23:48:45.546Z"
   },
   {
    "duration": 8,
    "start_time": "2024-11-01T23:48:55.289Z"
   },
   {
    "duration": 7,
    "start_time": "2024-11-01T23:48:57.725Z"
   },
   {
    "duration": 5,
    "start_time": "2024-11-01T23:48:59.820Z"
   },
   {
    "duration": 23,
    "start_time": "2024-11-01T23:49:03.669Z"
   },
   {
    "duration": 10,
    "start_time": "2024-11-01T23:49:08.460Z"
   },
   {
    "duration": 6,
    "start_time": "2024-11-01T23:49:26.206Z"
   },
   {
    "duration": 15,
    "start_time": "2024-11-01T23:50:23.253Z"
   },
   {
    "duration": 32,
    "start_time": "2024-11-01T23:50:49.965Z"
   },
   {
    "duration": 19,
    "start_time": "2024-11-01T23:51:02.355Z"
   },
   {
    "duration": 31,
    "start_time": "2024-11-01T23:51:47.518Z"
   },
   {
    "duration": 23,
    "start_time": "2024-11-01T23:52:44.100Z"
   },
   {
    "duration": 190,
    "start_time": "2024-11-01T23:53:17.574Z"
   },
   {
    "duration": 222,
    "start_time": "2024-11-01T23:54:34.239Z"
   },
   {
    "duration": 10,
    "start_time": "2024-11-01T23:54:51.541Z"
   },
   {
    "duration": 17,
    "start_time": "2024-11-01T23:55:41.705Z"
   },
   {
    "duration": 192,
    "start_time": "2024-11-02T00:00:21.871Z"
   },
   {
    "duration": 213,
    "start_time": "2024-11-02T00:04:26.167Z"
   },
   {
    "duration": 14,
    "start_time": "2024-11-02T00:07:45.662Z"
   },
   {
    "duration": 7,
    "start_time": "2024-11-02T00:07:53.029Z"
   },
   {
    "duration": 8,
    "start_time": "2024-11-02T00:08:41.830Z"
   },
   {
    "duration": 7,
    "start_time": "2024-11-02T00:10:51.169Z"
   },
   {
    "duration": 5,
    "start_time": "2024-11-02T00:34:42.962Z"
   },
   {
    "duration": 45,
    "start_time": "2024-11-02T00:41:13.275Z"
   },
   {
    "duration": 8,
    "start_time": "2024-11-02T00:42:49.669Z"
   },
   {
    "duration": 34,
    "start_time": "2024-11-02T00:44:21.562Z"
   },
   {
    "duration": 26,
    "start_time": "2024-11-02T00:44:31.443Z"
   },
   {
    "duration": 44,
    "start_time": "2024-11-02T01:29:02.169Z"
   },
   {
    "duration": 236,
    "start_time": "2024-11-02T01:32:43.223Z"
   },
   {
    "duration": 871,
    "start_time": "2024-11-02T01:33:18.835Z"
   },
   {
    "duration": 15,
    "start_time": "2024-11-02T01:33:19.709Z"
   },
   {
    "duration": 11,
    "start_time": "2024-11-02T01:33:19.725Z"
   },
   {
    "duration": 12,
    "start_time": "2024-11-02T01:33:19.737Z"
   },
   {
    "duration": 61,
    "start_time": "2024-11-02T01:33:19.752Z"
   },
   {
    "duration": 11,
    "start_time": "2024-11-02T01:33:19.814Z"
   },
   {
    "duration": 3,
    "start_time": "2024-11-02T01:33:19.826Z"
   },
   {
    "duration": 28,
    "start_time": "2024-11-02T01:33:19.831Z"
   },
   {
    "duration": 5,
    "start_time": "2024-11-02T01:33:19.860Z"
   },
   {
    "duration": 5,
    "start_time": "2024-11-02T01:33:19.866Z"
   },
   {
    "duration": 182,
    "start_time": "2024-11-02T01:33:19.872Z"
   },
   {
    "duration": 26281,
    "start_time": "2024-11-02T01:33:20.055Z"
   },
   {
    "duration": 5,
    "start_time": "2024-11-02T01:33:46.338Z"
   },
   {
    "duration": 8,
    "start_time": "2024-11-02T01:33:46.347Z"
   },
   {
    "duration": 7,
    "start_time": "2024-11-02T01:33:46.356Z"
   },
   {
    "duration": 5,
    "start_time": "2024-11-02T01:33:46.365Z"
   },
   {
    "duration": 51,
    "start_time": "2024-11-02T01:33:46.372Z"
   },
   {
    "duration": 12,
    "start_time": "2024-11-02T01:33:46.425Z"
   },
   {
    "duration": 70,
    "start_time": "2024-11-02T01:33:46.440Z"
   },
   {
    "duration": 112,
    "start_time": "2024-11-02T01:33:46.513Z"
   },
   {
    "duration": 254,
    "start_time": "2024-11-02T01:33:46.629Z"
   },
   {
    "duration": 22,
    "start_time": "2024-11-02T01:33:46.884Z"
   },
   {
    "duration": 31,
    "start_time": "2024-11-02T01:33:46.908Z"
   },
   {
    "duration": 237,
    "start_time": "2024-11-02T01:33:46.941Z"
   },
   {
    "duration": 9,
    "start_time": "2024-11-02T01:33:47.179Z"
   },
   {
    "duration": 29,
    "start_time": "2024-11-02T01:33:47.189Z"
   },
   {
    "duration": 239,
    "start_time": "2024-11-02T01:33:47.220Z"
   },
   {
    "duration": 5,
    "start_time": "2024-11-02T01:33:47.461Z"
   },
   {
    "duration": 39,
    "start_time": "2024-11-02T01:33:47.467Z"
   },
   {
    "duration": 178,
    "start_time": "2024-11-02T01:40:38.493Z"
   }
  ],
  "kernelspec": {
   "display_name": "Python 3",
   "language": "python",
   "name": "python3"
  },
  "language_info": {
   "codemirror_mode": {
    "name": "ipython",
    "version": 3
   },
   "file_extension": ".py",
   "mimetype": "text/x-python",
   "name": "python",
   "nbconvert_exporter": "python",
   "pygments_lexer": "ipython3",
   "version": "3.6.4"
  },
  "toc": {
   "base_numbering": 1,
   "nav_menu": {},
   "number_sections": true,
   "sideBar": true,
   "skip_h1_title": true,
   "title_cell": "Table of Contents",
   "title_sidebar": "Contents",
   "toc_cell": false,
   "toc_position": {},
   "toc_section_display": true,
   "toc_window_display": false
  }
 },
 "nbformat": 4,
 "nbformat_minor": 2
}
